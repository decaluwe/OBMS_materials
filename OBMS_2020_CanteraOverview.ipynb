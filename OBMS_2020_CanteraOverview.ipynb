{
 "cells": [
  {
   "cell_type": "markdown",
   "metadata": {},
   "source": [
    "## Import necessary modules"
   ]
  },
  {
   "cell_type": "code",
   "execution_count": 8,
   "metadata": {},
   "outputs": [],
   "source": [
    "import cantera as ct\n",
    "import numpy as np\n",
    "import pylab as plt"
   ]
  },
  {
   "cell_type": "markdown",
   "metadata": {},
   "source": [
    "## Specify input files and phases"
   ]
  },
  {
   "cell_type": "code",
   "execution_count": 9,
   "metadata": {},
   "outputs": [],
   "source": [
    "# File for gas phase model: GRI 3.0 (CH4 combution)\n",
    "gasfile = 'gri30.cti'\n",
    "gas_phase = 'gri30_mix'"
   ]
  },
  {
   "cell_type": "markdown",
   "metadata": {},
   "source": [
    "## Create a gas phase Cantera object\n",
    "Set T and P to 300 K, 1 atm:"
   ]
  },
  {
   "cell_type": "code",
   "execution_count": 10,
   "metadata": {},
   "outputs": [
    {
     "name": "stdout",
     "output_type": "stream",
     "text": [
      "\n",
      "  gri30_mix:\n",
      "\n",
      "       temperature   300 K\n",
      "          pressure   1.0133e+05 Pa\n",
      "           density   0.081894 kg/m^3\n",
      "  mean mol. weight   2.016 kg/kmol\n",
      "   phase of matter   gas\n",
      "\n",
      "                          1 kg             1 kmol     \n",
      "                     ---------------   ---------------\n",
      "          enthalpy             26469             53361  J\n",
      "   internal energy       -1.2108e+06        -2.441e+06  J\n",
      "           entropy             64910        1.3086e+05  J/K\n",
      "    Gibbs function       -1.9447e+07       -3.9204e+07  J\n",
      " heat capacity c_p             14311             28851  J/K\n",
      " heat capacity c_v             10187             20536  J/K\n",
      "\n",
      "                      mass frac. Y      mole frac. X     chem. pot. / RT\n",
      "                     ---------------   ---------------   ---------------\n",
      "                H2                 1                 1           -15.717\n",
      "     [  +52 minor]                 0                 0  \n",
      "\n"
     ]
    }
   ],
   "source": [
    "gas = ct.Solution(gasfile,gas_phase)\n",
    "gas.TP = 300, ct.one_atm\n",
    "gas()"
   ]
  },
  {
   "cell_type": "markdown",
   "metadata": {},
   "source": [
    "## Here is some input/output for composition:\n",
    "We can read out properties to variable arrays:"
   ]
  },
  {
   "cell_type": "code",
   "execution_count": 11,
   "metadata": {},
   "outputs": [
    {
     "name": "stdout",
     "output_type": "stream",
     "text": [
      "[1. 0. 0. 0. 0. 0. 0. 0. 0. 0. 0. 0. 0. 0. 0. 0. 0. 0. 0. 0. 0. 0. 0. 0.\n",
      " 0. 0. 0. 0. 0. 0. 0. 0. 0. 0. 0. 0. 0. 0. 0. 0. 0. 0. 0. 0. 0. 0. 0. 0.\n",
      " 0. 0. 0. 0. 0.]\n"
     ]
    }
   ],
   "source": [
    "molefracs = gas.X\n",
    "print(molefracs)"
   ]
  },
  {
   "cell_type": "markdown",
   "metadata": {},
   "source": [
    "## Getting help:"
   ]
  },
  {
   "cell_type": "code",
   "execution_count": 12,
   "metadata": {},
   "outputs": [
    {
     "data": {
      "text/plain": [
       "['DP',\n",
       " 'DPX',\n",
       " 'DPY',\n",
       " 'HP',\n",
       " 'HPX',\n",
       " 'HPY',\n",
       " 'ID',\n",
       " 'P',\n",
       " 'P_sat',\n",
       " 'SP',\n",
       " 'SPX',\n",
       " 'SPY',\n",
       " 'SV',\n",
       " 'SVX',\n",
       " 'SVY',\n",
       " 'T',\n",
       " 'TD',\n",
       " 'TDX',\n",
       " 'TDY',\n",
       " 'TP',\n",
       " 'TPX',\n",
       " 'TPY',\n",
       " 'T_sat',\n",
       " 'UV',\n",
       " 'UVX',\n",
       " 'UVY',\n",
       " 'X',\n",
       " 'Y',\n",
       " '__call__',\n",
       " '__class__',\n",
       " '__copy__',\n",
       " '__delattr__',\n",
       " '__dir__',\n",
       " '__doc__',\n",
       " '__eq__',\n",
       " '__format__',\n",
       " '__ge__',\n",
       " '__getattribute__',\n",
       " '__getitem__',\n",
       " '__gt__',\n",
       " '__hash__',\n",
       " '__init__',\n",
       " '__init_subclass__',\n",
       " '__le__',\n",
       " '__lt__',\n",
       " '__module__',\n",
       " '__ne__',\n",
       " '__new__',\n",
       " '__pyx_vtable__',\n",
       " '__reduce__',\n",
       " '__reduce_ex__',\n",
       " '__repr__',\n",
       " '__setattr__',\n",
       " '__sizeof__',\n",
       " '__slots__',\n",
       " '__str__',\n",
       " '__subclasshook__',\n",
       " '_check_kinetics_species_index',\n",
       " '_check_phase_index',\n",
       " '_check_reaction_index',\n",
       " '_full_states',\n",
       " '_init_cti_xml',\n",
       " '_init_parts',\n",
       " '_init_yaml',\n",
       " '_native_state',\n",
       " '_partial_states',\n",
       " '_references',\n",
       " 'activities',\n",
       " 'activity_coefficients',\n",
       " 'add_reaction',\n",
       " 'add_species',\n",
       " 'add_species_alias',\n",
       " 'atomic_weight',\n",
       " 'atomic_weights',\n",
       " 'basis',\n",
       " 'binary_diff_coeffs',\n",
       " 'case_sensitive_species_names',\n",
       " 'chemical_potentials',\n",
       " 'composite',\n",
       " 'concentrations',\n",
       " 'cp',\n",
       " 'cp_mass',\n",
       " 'cp_mole',\n",
       " 'creation_rates',\n",
       " 'critical_density',\n",
       " 'critical_pressure',\n",
       " 'critical_temperature',\n",
       " 'cv',\n",
       " 'cv_mass',\n",
       " 'cv_mole',\n",
       " 'delta_enthalpy',\n",
       " 'delta_entropy',\n",
       " 'delta_gibbs',\n",
       " 'delta_standard_enthalpy',\n",
       " 'delta_standard_entropy',\n",
       " 'delta_standard_gibbs',\n",
       " 'density',\n",
       " 'density_mass',\n",
       " 'density_mole',\n",
       " 'destruction_rates',\n",
       " 'electric_potential',\n",
       " 'electrical_conductivity',\n",
       " 'electrochemical_potentials',\n",
       " 'element_index',\n",
       " 'element_name',\n",
       " 'element_names',\n",
       " 'elemental_mass_fraction',\n",
       " 'elemental_mole_fraction',\n",
       " 'enthalpy_mass',\n",
       " 'enthalpy_mole',\n",
       " 'entropy_mass',\n",
       " 'entropy_mole',\n",
       " 'equilibrate',\n",
       " 'equilibrium_constants',\n",
       " 'find_isomers',\n",
       " 'forward_rate_constants',\n",
       " 'forward_rates_of_progress',\n",
       " 'g',\n",
       " 'get_equivalence_ratio',\n",
       " 'gibbs_mass',\n",
       " 'gibbs_mole',\n",
       " 'h',\n",
       " 'has_phase_transition',\n",
       " 'int_energy_mass',\n",
       " 'int_energy_mole',\n",
       " 'is_compressible',\n",
       " 'is_pure',\n",
       " 'is_reversible',\n",
       " 'isothermal_compressibility',\n",
       " 'kinetics_model',\n",
       " 'kinetics_species_index',\n",
       " 'kinetics_species_name',\n",
       " 'kinetics_species_names',\n",
       " 'mass_fraction_dict',\n",
       " 'max_temp',\n",
       " 'mean_molecular_weight',\n",
       " 'min_temp',\n",
       " 'mix_diff_coeffs',\n",
       " 'mix_diff_coeffs_mass',\n",
       " 'mix_diff_coeffs_mole',\n",
       " 'mobilities',\n",
       " 'modify_reaction',\n",
       " 'modify_species',\n",
       " 'mole_fraction_dict',\n",
       " 'molecular_weights',\n",
       " 'multi_diff_coeffs',\n",
       " 'multiplier',\n",
       " 'n_atoms',\n",
       " 'n_elements',\n",
       " 'n_phases',\n",
       " 'n_reactions',\n",
       " 'n_selected_species',\n",
       " 'n_species',\n",
       " 'n_total_species',\n",
       " 'name',\n",
       " 'net_production_rates',\n",
       " 'net_rates_of_progress',\n",
       " 'partial_molar_cp',\n",
       " 'partial_molar_enthalpies',\n",
       " 'partial_molar_entropies',\n",
       " 'partial_molar_int_energies',\n",
       " 'partial_molar_volumes',\n",
       " 'phase_of_matter',\n",
       " 'product_stoich_coeff',\n",
       " 'product_stoich_coeffs',\n",
       " 'products',\n",
       " 'reactant_stoich_coeff',\n",
       " 'reactant_stoich_coeffs',\n",
       " 'reactants',\n",
       " 'reaction',\n",
       " 'reaction_equation',\n",
       " 'reaction_equations',\n",
       " 'reaction_phase_index',\n",
       " 'reaction_type',\n",
       " 'reactions',\n",
       " 'reference_pressure',\n",
       " 'report',\n",
       " 'reverse_rate_constants',\n",
       " 'reverse_rates_of_progress',\n",
       " 's',\n",
       " 'selected_species',\n",
       " 'set_equivalence_ratio',\n",
       " 'set_multiplier',\n",
       " 'set_unnormalized_mass_fractions',\n",
       " 'set_unnormalized_mole_fractions',\n",
       " 'species',\n",
       " 'species_index',\n",
       " 'species_name',\n",
       " 'species_names',\n",
       " 'species_viscosities',\n",
       " 'standard_cp_R',\n",
       " 'standard_enthalpies_RT',\n",
       " 'standard_entropies_R',\n",
       " 'standard_gibbs_RT',\n",
       " 'standard_int_energies_RT',\n",
       " 'state',\n",
       " 'state_size',\n",
       " 'thermal_conductivity',\n",
       " 'thermal_diff_coeffs',\n",
       " 'thermal_expansion_coeff',\n",
       " 'thermo_model',\n",
       " 'transport_model',\n",
       " 'u',\n",
       " 'v',\n",
       " 'viscosity',\n",
       " 'volume_mass',\n",
       " 'volume_mole']"
      ]
     },
     "execution_count": 12,
     "metadata": {},
     "output_type": "execute_result"
    }
   ],
   "source": [
    "dir(gas)"
   ]
  },
  {
   "cell_type": "code",
   "execution_count": 13,
   "metadata": {},
   "outputs": [],
   "source": [
    "gas?"
   ]
  },
  {
   "cell_type": "markdown",
   "metadata": {},
   "source": [
    "### Also, search the API documentation via the website: cantera.org\n",
    "\n",
    "## Set all molefractions to 1/n_species:"
   ]
  },
  {
   "cell_type": "code",
   "execution_count": 14,
   "metadata": {},
   "outputs": [
    {
     "name": "stdout",
     "output_type": "stream",
     "text": [
      "53\n",
      "\n",
      "  gri30_mix:\n",
      "\n",
      "       temperature   300 K\n",
      "          pressure   7074.3 Pa\n",
      "           density   0.081894 kg/m^3\n",
      "  mean mol. weight   28.875 kg/kmol\n",
      "   phase of matter   gas\n",
      "\n",
      "                          1 kg             1 kmol     \n",
      "                     ---------------   ---------------\n",
      "          enthalpy        3.8025e+06         1.098e+08  J\n",
      "   internal energy        3.7161e+06         1.073e+08  J\n",
      "           entropy            9302.1         2.686e+05  J/K\n",
      "    Gibbs function        1.0119e+06        2.9218e+07  J\n",
      " heat capacity c_p            1351.9             39038  J/K\n",
      " heat capacity c_v              1064             30723  J/K\n",
      "\n",
      "                      mass frac. Y      mole frac. X     chem. pot. / RT\n",
      "                     ---------------   ---------------   ---------------\n",
      "                H2         0.0013173          0.018868           -22.349\n",
      "                 H        0.00065866          0.018868            66.967\n",
      "                 O          0.010454          0.018868            73.892\n",
      "                O2          0.020908          0.018868           -31.306\n",
      "                OH          0.011113          0.018868           -12.956\n",
      "               H2O          0.011772          0.018868           -126.29\n",
      "               HO2          0.021567          0.018868           -29.155\n",
      "              H2O2          0.022226          0.018868           -89.314\n",
      "                 C         0.0078483          0.018868            261.67\n",
      "                CH          0.008507          0.018868            210.83\n",
      "               CH2         0.0091656          0.018868            127.27\n",
      "            CH2(S)         0.0091656          0.018868            142.96\n",
      "               CH3         0.0098243          0.018868            28.927\n",
      "               CH4          0.010483          0.018868           -58.955\n",
      "                CO          0.018303          0.018868           -74.717\n",
      "               CO2          0.028757          0.018868           -190.11\n",
      "               HCO          0.018961          0.018868           -16.775\n",
      "              CH2O           0.01962          0.018868           -76.474\n",
      "             CH2OH          0.020279          0.018868           -41.833\n",
      "              CH3O          0.020279          0.018868           -27.576\n",
      "             CH3OH          0.020937          0.018868           -116.03\n",
      "               C2H          0.016355          0.018868             194.7\n",
      "              C2H2          0.017014          0.018868             60.69\n",
      "              C2H3          0.017673          0.018868            85.405\n",
      "              C2H4          0.018331          0.018868           -11.963\n",
      "              C2H5           0.01899          0.018868            11.217\n",
      "              C2H6          0.019649          0.018868           -67.818\n",
      "              HCCO           0.02681          0.018868            34.822\n",
      "             CH2CO          0.027468          0.018868           -54.848\n",
      "             HCCOH          0.027468          0.018868           -3.5675\n",
      "                 N         0.0091526          0.018868            164.43\n",
      "                NH         0.0098112          0.018868            114.66\n",
      "               NH2           0.01047          0.018868            46.909\n",
      "               NH3          0.011129          0.018868           -48.218\n",
      "               NNH          0.018964          0.018868            66.399\n",
      "                NO          0.019607          0.018868            4.6097\n",
      "               NO2          0.030061          0.018868            -21.81\n",
      "               N2O          0.028759          0.018868          -0.37929\n",
      "               HNO          0.020265          0.018868            9.3974\n",
      "                CN          0.017001          0.018868            144.87\n",
      "               HCN           0.01766          0.018868            21.539\n",
      "              H2CN          0.018318          0.018868            65.554\n",
      "              HCNN          0.026812          0.018868            148.55\n",
      "              HCNO          0.028114          0.018868            32.747\n",
      "              HOCN          0.028114          0.018868           -40.483\n",
      "              HNCO          0.028114          0.018868           -82.924\n",
      "               NCO          0.027455          0.018868            18.256\n",
      "                N2          0.018305          0.018868           -29.665\n",
      "                AR          0.026104          0.018868           -25.242\n",
      "              C3H7          0.028156          0.018868           -1.1556\n",
      "              C3H8          0.028814          0.018868           -80.763\n",
      "            CH2CHO          0.028127          0.018868           -28.779\n",
      "            CH3CHO          0.028786          0.018868              -105\n",
      "\n"
     ]
    }
   ],
   "source": [
    "nsp = gas.n_species\n",
    "print(nsp)\n",
    "gas.X = np.ones(molefracs.shape)/nsp\n",
    "gas()"
   ]
  },
  {
   "cell_type": "markdown",
   "metadata": {},
   "source": [
    "## Another, equivalent method:"
   ]
  },
  {
   "cell_type": "code",
   "execution_count": 15,
   "metadata": {},
   "outputs": [
    {
     "name": "stdout",
     "output_type": "stream",
     "text": [
      "\n",
      "  gri30_mix:\n",
      "\n",
      "       temperature   300 K\n",
      "          pressure   7074.3 Pa\n",
      "           density   0.081894 kg/m^3\n",
      "  mean mol. weight   28.875 kg/kmol\n",
      "   phase of matter   gas\n",
      "\n",
      "                          1 kg             1 kmol     \n",
      "                     ---------------   ---------------\n",
      "          enthalpy        3.8025e+06         1.098e+08  J\n",
      "   internal energy        3.7161e+06         1.073e+08  J\n",
      "           entropy            9302.1         2.686e+05  J/K\n",
      "    Gibbs function        1.0119e+06        2.9218e+07  J\n",
      " heat capacity c_p            1351.9             39038  J/K\n",
      " heat capacity c_v              1064             30723  J/K\n",
      "\n",
      "                      mass frac. Y      mole frac. X     chem. pot. / RT\n",
      "                     ---------------   ---------------   ---------------\n",
      "                H2         0.0013173          0.018868           -22.349\n",
      "                 H        0.00065866          0.018868            66.967\n",
      "                 O          0.010454          0.018868            73.892\n",
      "                O2          0.020908          0.018868           -31.306\n",
      "                OH          0.011113          0.018868           -12.956\n",
      "               H2O          0.011772          0.018868           -126.29\n",
      "               HO2          0.021567          0.018868           -29.155\n",
      "              H2O2          0.022226          0.018868           -89.314\n",
      "                 C         0.0078483          0.018868            261.67\n",
      "                CH          0.008507          0.018868            210.83\n",
      "               CH2         0.0091656          0.018868            127.27\n",
      "            CH2(S)         0.0091656          0.018868            142.96\n",
      "               CH3         0.0098243          0.018868            28.927\n",
      "               CH4          0.010483          0.018868           -58.955\n",
      "                CO          0.018303          0.018868           -74.717\n",
      "               CO2          0.028757          0.018868           -190.11\n",
      "               HCO          0.018961          0.018868           -16.775\n",
      "              CH2O           0.01962          0.018868           -76.474\n",
      "             CH2OH          0.020279          0.018868           -41.833\n",
      "              CH3O          0.020279          0.018868           -27.576\n",
      "             CH3OH          0.020937          0.018868           -116.03\n",
      "               C2H          0.016355          0.018868             194.7\n",
      "              C2H2          0.017014          0.018868             60.69\n",
      "              C2H3          0.017673          0.018868            85.405\n",
      "              C2H4          0.018331          0.018868           -11.963\n",
      "              C2H5           0.01899          0.018868            11.217\n",
      "              C2H6          0.019649          0.018868           -67.818\n",
      "              HCCO           0.02681          0.018868            34.822\n",
      "             CH2CO          0.027468          0.018868           -54.848\n",
      "             HCCOH          0.027468          0.018868           -3.5675\n",
      "                 N         0.0091526          0.018868            164.43\n",
      "                NH         0.0098112          0.018868            114.66\n",
      "               NH2           0.01047          0.018868            46.909\n",
      "               NH3          0.011129          0.018868           -48.218\n",
      "               NNH          0.018964          0.018868            66.399\n",
      "                NO          0.019607          0.018868            4.6097\n",
      "               NO2          0.030061          0.018868            -21.81\n",
      "               N2O          0.028759          0.018868          -0.37929\n",
      "               HNO          0.020265          0.018868            9.3974\n",
      "                CN          0.017001          0.018868            144.87\n",
      "               HCN           0.01766          0.018868            21.539\n",
      "              H2CN          0.018318          0.018868            65.554\n",
      "              HCNN          0.026812          0.018868            148.55\n",
      "              HCNO          0.028114          0.018868            32.747\n",
      "              HOCN          0.028114          0.018868           -40.483\n",
      "              HNCO          0.028114          0.018868           -82.924\n",
      "               NCO          0.027455          0.018868            18.256\n",
      "                N2          0.018305          0.018868           -29.665\n",
      "                AR          0.026104          0.018868           -25.242\n",
      "              C3H7          0.028156          0.018868           -1.1556\n",
      "              C3H8          0.028814          0.018868           -80.763\n",
      "            CH2CHO          0.028127          0.018868           -28.779\n",
      "            CH3CHO          0.028786          0.018868              -105\n",
      "\n"
     ]
    }
   ],
   "source": [
    "molefracs = np.ones(molefracs.shape)\n",
    "gas.TPX = None, None, molefracs\n",
    "gas()"
   ]
  },
  {
   "cell_type": "markdown",
   "metadata": {},
   "source": [
    "## Thermodynamic Properties:"
   ]
  },
  {
   "cell_type": "code",
   "execution_count": 16,
   "metadata": {},
   "outputs": [
    {
     "name": "stdout",
     "output_type": "stream",
     "text": [
      "[-5.57471031e+07  1.67039047e+08  1.84312798e+08 -7.80875147e+07\n",
      " -3.23177279e+07 -3.15016083e+08 -7.27224474e+07 -2.22779992e+08\n",
      "  6.52702735e+08  5.25880651e+08  3.17464505e+08  3.56580988e+08\n",
      "  7.21537401e+07 -1.47053705e+08 -1.86369289e+08 -4.74186708e+08\n",
      " -4.18436144e+07 -1.90751328e+08 -1.04346188e+08 -6.87845531e+07\n",
      " -2.89424627e+08  4.85658468e+08  1.51380942e+08  2.13027819e+08\n",
      " -2.98398369e+07  2.79792860e+07 -1.69160240e+08  8.68566403e+07\n",
      " -1.36809069e+08 -8.89854399e+06  4.10143953e+08  2.86006194e+08\n",
      "  1.17007631e+08 -1.20273233e+08  1.65621307e+08  1.14981770e+07\n",
      " -5.44009829e+07 -9.46067059e+05  2.34403469e+07  3.61345061e+08\n",
      "  5.37251332e+07  1.63514605e+08  3.70542956e+08  8.16830665e+07\n",
      " -1.00978475e+08 -2.06839933e+08  4.55377860e+07 -7.39952658e+07\n",
      " -6.29626004e+07 -2.88250845e+06 -2.01450700e+08 -7.17834824e+07\n",
      " -2.61917421e+08]\n"
     ]
    }
   ],
   "source": [
    "mu_k = gas.chemical_potentials\n",
    "print(mu_k)"
   ]
  },
  {
   "cell_type": "markdown",
   "metadata": {},
   "source": [
    "## Transport Properties:"
   ]
  },
  {
   "cell_type": "code",
   "execution_count": 17,
   "metadata": {},
   "outputs": [
    {
     "name": "stdout",
     "output_type": "stream",
     "text": [
      "(53, 53)\n"
     ]
    },
    {
     "data": {
      "text/plain": [
       "array([[2.09087761e-03, 3.09672012e-03, 1.55259850e-03, ...,\n",
       "        6.70534748e-04, 8.21275763e-04, 8.20855283e-04],\n",
       "       [3.09672012e-03, 4.36100003e-03, 2.54315619e-03, ...,\n",
       "        9.46522218e-04, 1.16156772e-03, 1.16126360e-03],\n",
       "       [1.55259850e-03, 2.54315619e-03, 7.20222849e-04, ...,\n",
       "        2.53427760e-04, 3.07586387e-04, 3.06631363e-04],\n",
       "       ...,\n",
       "       [6.70534748e-04, 9.46522218e-04, 2.53427760e-04, ...,\n",
       "        8.71747380e-05, 9.63238456e-05, 9.57645608e-05],\n",
       "       [8.21275763e-04, 1.16156772e-03, 3.07586387e-04, ...,\n",
       "        9.63238456e-05, 1.08408592e-04, 1.07786669e-04],\n",
       "       [8.20855283e-04, 1.16126360e-03, 3.06631363e-04, ...,\n",
       "        9.57645608e-05, 1.07786669e-04, 1.07161137e-04]])"
      ]
     },
     "execution_count": 17,
     "metadata": {},
     "output_type": "execute_result"
    }
   ],
   "source": [
    "D_jk = gas.binary_diff_coeffs\n",
    "print(D_jk.shape)\n",
    "D_jk"
   ]
  },
  {
   "cell_type": "code",
   "execution_count": null,
   "metadata": {},
   "outputs": [],
   "source": []
  }
 ],
 "metadata": {
  "kernelspec": {
   "display_name": "Python 3",
   "language": "python",
   "name": "python3"
  },
  "language_info": {
   "codemirror_mode": {
    "name": "ipython",
    "version": 3
   },
   "file_extension": ".py",
   "mimetype": "text/x-python",
   "name": "python",
   "nbconvert_exporter": "python",
   "pygments_lexer": "ipython3",
   "version": "3.7.6"
  }
 },
 "nbformat": 4,
 "nbformat_minor": 2
}
